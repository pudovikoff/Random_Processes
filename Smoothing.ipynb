{
 "cells": [
  {
   "cell_type": "markdown",
   "metadata": {},
   "source": [
    "# Smoothing for Linear Gaussian System\n",
    "\n",
    "So here, we will solve smoothing problem by using Kalman filter and Kalman filter in reverse time for Linear Gaussian System\n",
    "\n",
    "$\\begin{equation}\n",
    " \\begin{cases}\n",
    "   X_t = a_t X_{t-1} + c_t + b_t V_t, t \\in N, X_0 \\sim N(m_0, D_0)\\\\\n",
    "   Y_t = A_t X_t + C_t + B_t W_t \\\\\n",
    "   Y_0 = A_0 X_0 + C_0 + B_0 W_0\n",
    " \\end{cases}\n",
    "\\end{equation}$\n",
    "\n",
    "$Y$ - observing value, have to smooth $X$\n",
    "\n",
    "$\\hat X_t$ - estimation by classic Kalman filter\n",
    "\n",
    "$\\hat X_t^r$ - estimation by reverse Kalman filter\n",
    "\n",
    "We will search for \n",
    "\n",
    "$\\hat X_t^s = E[X_t | Y_T]$ - smoothing by observations on time $T$\n",
    "\n",
    "$K_t^s = cov(X_t^s - X_t, X_t^s - X_t)$ - covariance matrix of smoothing error\n",
    "\n",
    "Fortunately, we have simple formula to calculate it\n",
    "\n",
    "$\\hat X_t^s = K_t^s (K_t^{-1} \\hat X_t + {(K_t^r)}^{-1} \\hat X_t^r )$\n",
    "\n",
    "$K_t^s = {(K_t^{-1} + {(K_t^r)}^{-1} - k_t^{-1})}^{-1}$\n"
   ]
  }
 ],
 "metadata": {
  "language_info": {
   "name": "python"
  }
 },
 "nbformat": 4,
 "nbformat_minor": 2
}
